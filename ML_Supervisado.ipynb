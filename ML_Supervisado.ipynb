{
  "nbformat": 4,
  "nbformat_minor": 0,
  "metadata": {
    "colab": {
      "provenance": [],
      "gpuType": "T4",
      "authorship_tag": "ABX9TyOQZ8ouNUdAh4/a4pigZt7f",
      "include_colab_link": true
    },
    "kernelspec": {
      "name": "python3",
      "display_name": "Python 3"
    },
    "language_info": {
      "name": "python"
    },
    "accelerator": "GPU"
  },
  "cells": [
    {
      "cell_type": "markdown",
      "metadata": {
        "id": "view-in-github",
        "colab_type": "text"
      },
      "source": [
        "<a href=\"https://colab.research.google.com/github/luisscrc/Actividad-de-Machine-Learning-Supervisado/blob/main/ML_Supervisado.ipynb\" target=\"_parent\"><img src=\"https://colab.research.google.com/assets/colab-badge.svg\" alt=\"Open In Colab\"/></a>"
      ]
    },
    {
      "cell_type": "code",
      "execution_count": null,
      "metadata": {
        "id": "fCsxZBDtJpTn"
      },
      "outputs": [],
      "source": [
        "# El dataset elegido es un registro de comentarios de la red social X (twitter pa la banda)\n",
        "# Fuente del dataset  https://github.com/raulrrv/Deteccion_Xenofobia_TT/blob/master/data/dataset_1_clasificado.csv"
      ]
    },
    {
      "cell_type": "markdown",
      "source": [
        "Se eligió este dataset debido a la practicidad de entender los datos. Se cuentan con básicamente tres columnas. Xenofobia, Lenguaje ofensivo y Neither  (no hay mal lenguaje). Donde la Xenofobia del comentario toma valores de 0 al 7; se asigna valores de 0 a 9 según el nivel de \"dureza\" de las palabras. Neither toma valores del 0 al 9."
      ],
      "metadata": {
        "id": "GT6h3H6NM2l_"
      }
    },
    {
      "cell_type": "code",
      "source": [
        "!git clone https://github.com/rapidsai/rapidsai-csp-utils.git ## LIBRERÍA PARA ACELERAR POR GPU\n",
        "!python rapidsai-csp-utils/colab/pip-install.py ## COMPILAR CON T4"
      ],
      "metadata": {
        "colab": {
          "base_uri": "https://localhost:8080/"
        },
        "id": "tEVZfsyfKyKm",
        "outputId": "3ad138de-e5eb-4c5d-ce91-d20145408c9a"
      },
      "execution_count": null,
      "outputs": [
        {
          "output_type": "stream",
          "name": "stdout",
          "text": [
            "fatal: destination path 'rapidsai-csp-utils' already exists and is not an empty directory.\n",
            "Traceback (most recent call last):\n",
            "  File \"/usr/local/lib/python3.10/dist-packages/pynvml/nvml.py\", line 1798, in _LoadNvmlLibrary\n",
            "    nvmlLib = CDLL(\"libnvidia-ml.so.1\")\n",
            "  File \"/usr/lib/python3.10/ctypes/__init__.py\", line 374, in __init__\n",
            "    self._handle = _dlopen(self._name, mode)\n",
            "OSError: libnvidia-ml.so.1: cannot open shared object file: No such file or directory\n",
            "\n",
            "During handling of the above exception, another exception occurred:\n",
            "\n",
            "Traceback (most recent call last):\n",
            "  File \"/content/rapidsai-csp-utils/colab/pip-install.py\", line 17, in <module>\n",
            "    pynvml.nvmlInit()\n",
            "  File \"/usr/local/lib/python3.10/dist-packages/pynvml/nvml.py\", line 1770, in nvmlInit\n",
            "    nvmlInitWithFlags(0)\n",
            "  File \"/usr/local/lib/python3.10/dist-packages/pynvml/nvml.py\", line 1753, in nvmlInitWithFlags\n",
            "    _LoadNvmlLibrary()\n",
            "  File \"/usr/local/lib/python3.10/dist-packages/pynvml/nvml.py\", line 1800, in _LoadNvmlLibrary\n",
            "    _nvmlCheckReturn(NVML_ERROR_LIBRARY_NOT_FOUND)\n",
            "  File \"/usr/local/lib/python3.10/dist-packages/pynvml/nvml.py\", line 833, in _nvmlCheckReturn\n",
            "    raise NVMLError(ret)\n",
            "pynvml.nvml.NVMLError_LibraryNotFound: NVML Shared Library Not Found\n",
            "\n",
            "During handling of the above exception, another exception occurred:\n",
            "\n",
            "Traceback (most recent call last):\n",
            "  File \"/content/rapidsai-csp-utils/colab/pip-install.py\", line 19, in <module>\n",
            "    raise Exception(\"\"\"\n",
            "Exception: \n",
            "                  Unfortunately you're in a Colab instance that doesn't have a GPU.\n",
            "\n",
            "                  Please make sure you've configured Colab to request a GPU Instance Type.\n",
            "               \n",
            "                  Go to 'Runtime -> Change Runtime Type --> under the Hardware Accelerator, select GPU', then try again.\n"
          ]
        }
      ]
    },
    {
      "cell_type": "markdown",
      "source": [
        "# CÓDIGO"
      ],
      "metadata": {
        "id": "jl9Y_oPwN7ho"
      }
    },
    {
      "cell_type": "code",
      "source": [
        "import numpy as np\n",
        "import matplotlib\n",
        "import matplotlib.pyplot as plt\n",
        "from sklearn import svm\n",
        "from sklearn.datasets import make_blobs #ayuda a crear el dataset"
      ],
      "metadata": {
        "id": "QcBUJ-VzJPFk"
      },
      "execution_count": null,
      "outputs": []
    },
    {
      "cell_type": "code",
      "source": [
        "import pandas as pd\n",
        "import numpy as np\n",
        "data=pd.read_csv('dataset_1_clasificado.csv',low_memory=False) # RAM INFINITAAAAA\n",
        "data.columns"
      ],
      "metadata": {
        "colab": {
          "base_uri": "https://localhost:8080/"
        },
        "id": "p7RLuQzTKkHW",
        "outputId": "98d8b578-dc8b-45b3-f56b-87dd32075cc1"
      },
      "execution_count": null,
      "outputs": [
        {
          "output_type": "execute_result",
          "data": {
            "text/plain": [
              "Index(['Unnamed: 0', 'count', 'xenophobia', 'offensive_language', 'neither',\n",
              "       'clase', 'tweet'],\n",
              "      dtype='object')"
            ]
          },
          "metadata": {},
          "execution_count": 4
        }
      ]
    },
    {
      "cell_type": "code",
      "source": [
        "df=data\n",
        "\n",
        "df = df.drop(columns=['Unnamed: 0','neither','tweet'])\n",
        "df.columns"
      ],
      "metadata": {
        "colab": {
          "base_uri": "https://localhost:8080/"
        },
        "id": "MYcoayXeLFSj",
        "outputId": "4eea71f7-536e-4aa3-ffc8-87bd265523e0"
      },
      "execution_count": null,
      "outputs": [
        {
          "output_type": "execute_result",
          "data": {
            "text/plain": [
              "Index(['count', 'xenophobia', 'offensive_language', 'clase'], dtype='object')"
            ]
          },
          "metadata": {},
          "execution_count": 5
        }
      ]
    },
    {
      "cell_type": "code",
      "source": [
        "for col in ['xenophobia']:\n",
        "  df[col]=df[col].astype(str)\n",
        "\n",
        "from sklearn.preprocessing import LabelEncoder\n",
        "\n",
        "le= LabelEncoder()\n",
        "\n",
        "for col in ['xenophobia','clase']:\n",
        "  df[col]=le.fit_transform(df[col])"
      ],
      "metadata": {
        "id": "5Rv9i5X6LnS_"
      },
      "execution_count": null,
      "outputs": []
    },
    {
      "cell_type": "code",
      "source": [
        "X=df.drop(columns=['offensive_language'])\n",
        "y=df['offensive_language']"
      ],
      "metadata": {
        "id": "4DUEqfR2L8FH"
      },
      "execution_count": null,
      "outputs": []
    },
    {
      "cell_type": "code",
      "source": [
        "from sklearn.model_selection import train_test_split\n",
        "\n",
        "X_train, X_test, y_train, y_test = train_test_split(X, y, test_size=0.2, random_state=42)"
      ],
      "metadata": {
        "id": "Zk_GuWkpMP_S"
      },
      "execution_count": null,
      "outputs": []
    },
    {
      "cell_type": "code",
      "source": [
        "df.info()"
      ],
      "metadata": {
        "colab": {
          "base_uri": "https://localhost:8080/"
        },
        "id": "mWKyyeKkMSyx",
        "outputId": "8983c00f-cf63-4dc5-ab0d-f5702a5f442b"
      },
      "execution_count": null,
      "outputs": [
        {
          "output_type": "stream",
          "name": "stdout",
          "text": [
            "<class 'pandas.core.frame.DataFrame'>\n",
            "RangeIndex: 24783 entries, 0 to 24782\n",
            "Data columns (total 4 columns):\n",
            " #   Column              Non-Null Count  Dtype\n",
            "---  ------              --------------  -----\n",
            " 0   count               24783 non-null  int64\n",
            " 1   xenophobia          24783 non-null  int64\n",
            " 2   offensive_language  24783 non-null  int64\n",
            " 3   clase               24783 non-null  int64\n",
            "dtypes: int64(4)\n",
            "memory usage: 774.6 KB\n"
          ]
        }
      ]
    },
    {
      "cell_type": "code",
      "source": [
        "from sklearn.ensemble import RandomForestClassifier\n",
        "from sklearn.metrics import classification_report\n",
        "clf=RandomForestClassifier(random_state=42)\n",
        "clf.fit(X_train,y_train)\n",
        "y_pred=clf.predict(X_test)\n",
        "\n",
        "print(classification_report(y_test,y_pred))\n"
      ],
      "metadata": {
        "colab": {
          "base_uri": "https://localhost:8080/"
        },
        "id": "PhUT6N8_MVvs",
        "outputId": "9d6dcc74-a831-4145-9eb1-f75cd532a630"
      },
      "execution_count": null,
      "outputs": [
        {
          "output_type": "stream",
          "name": "stdout",
          "text": [
            "              precision    recall  f1-score   support\n",
            "\n",
            "           0       0.77      0.97      0.85       689\n",
            "           1       0.92      0.53      0.67       428\n",
            "           2       1.00      0.65      0.79       865\n",
            "           3       0.90      1.00      0.95      2666\n",
            "           4       0.83      0.83      0.83        42\n",
            "           5       0.89      0.64      0.74        75\n",
            "           6       0.85      1.00      0.92       166\n",
            "           7       0.83      0.50      0.62        10\n",
            "           8       0.60      0.75      0.67         8\n",
            "           9       0.73      1.00      0.84         8\n",
            "\n",
            "    accuracy                           0.88      4957\n",
            "   macro avg       0.83      0.79      0.79      4957\n",
            "weighted avg       0.90      0.88      0.88      4957\n",
            "\n"
          ]
        }
      ]
    },
    {
      "cell_type": "code",
      "source": [
        "!pip install --upgrade pyarrow"
      ],
      "metadata": {
        "colab": {
          "base_uri": "https://localhost:8080/"
        },
        "id": "d3oRQ5b8MwxA",
        "outputId": "cba2ee93-3230-40e2-e6a3-260c2e660e42"
      },
      "execution_count": null,
      "outputs": [
        {
          "output_type": "stream",
          "name": "stdout",
          "text": [
            "Requirement already satisfied: pyarrow in /usr/local/lib/python3.10/dist-packages (14.0.1)\n",
            "Requirement already satisfied: numpy>=1.16.6 in /usr/local/lib/python3.10/dist-packages (from pyarrow) (1.23.5)\n"
          ]
        }
      ]
    },
    {
      "cell_type": "markdown",
      "source": [
        "# MODELO KNN"
      ],
      "metadata": {
        "id": "XJUwFx-WO8tK"
      }
    },
    {
      "cell_type": "markdown",
      "source": [
        "Se elige este modelo debido a que es muy rápido con datasets grandes como este (aproximadamente 24783 registros.) No ocupa muchas clases (tres en este caso.)"
      ],
      "metadata": {
        "id": "8KR9CGv2PER7"
      }
    },
    {
      "cell_type": "code",
      "source": [
        "import cuml\n",
        "from cuml.ensemble import RandomForestClassifier\n",
        "from cuml.neighbors import KNeighborsClassifier\n",
        "from sklearn.metrics import classification_report\n",
        "\n",
        "cuml_RFC = RandomForestClassifier(random_state=42)\n",
        "cuml_KNC = KNeighborsClassifier()\n",
        "\n",
        "classifiers = [ # lista\n",
        "    {'Random Forest': cuml_RFC},\n",
        "    {'KNN': cuml_KNC}\n",
        "]\n",
        "\n",
        "for classifier in classifiers:\n",
        "    name, clf = list(classifier.items())[0]  # Extrae el nombre y clasificador del diccionario\n",
        "    clf.fit(X_train, y_train)\n",
        "    y_pred = clf.predict(X_test)\n",
        "    print(f'Modelo {name} resultados')\n",
        "    print(classification_report(y_test, y_pred))"
      ],
      "metadata": {
        "colab": {
          "base_uri": "https://localhost:8080/",
          "height": 383
        },
        "id": "8pIhDAQ9MpHU",
        "outputId": "d6f16c09-d2c2-499a-fe45-a6938937eab9"
      },
      "execution_count": 1,
      "outputs": [
        {
          "output_type": "error",
          "ename": "ModuleNotFoundError",
          "evalue": "ignored",
          "traceback": [
            "\u001b[0;31m---------------------------------------------------------------------------\u001b[0m",
            "\u001b[0;31mModuleNotFoundError\u001b[0m                       Traceback (most recent call last)",
            "\u001b[0;32m<ipython-input-1-2296d9d979ca>\u001b[0m in \u001b[0;36m<cell line: 1>\u001b[0;34m()\u001b[0m\n\u001b[0;32m----> 1\u001b[0;31m \u001b[0;32mimport\u001b[0m \u001b[0mcuml\u001b[0m\u001b[0;34m\u001b[0m\u001b[0;34m\u001b[0m\u001b[0m\n\u001b[0m\u001b[1;32m      2\u001b[0m \u001b[0;32mfrom\u001b[0m \u001b[0mcuml\u001b[0m\u001b[0;34m.\u001b[0m\u001b[0mensemble\u001b[0m \u001b[0;32mimport\u001b[0m \u001b[0mRandomForestClassifier\u001b[0m\u001b[0;34m\u001b[0m\u001b[0;34m\u001b[0m\u001b[0m\n\u001b[1;32m      3\u001b[0m \u001b[0;32mfrom\u001b[0m \u001b[0mcuml\u001b[0m\u001b[0;34m.\u001b[0m\u001b[0mneighbors\u001b[0m \u001b[0;32mimport\u001b[0m \u001b[0mKNeighborsClassifier\u001b[0m\u001b[0;34m\u001b[0m\u001b[0;34m\u001b[0m\u001b[0m\n\u001b[1;32m      4\u001b[0m \u001b[0;32mfrom\u001b[0m \u001b[0msklearn\u001b[0m\u001b[0;34m.\u001b[0m\u001b[0mmetrics\u001b[0m \u001b[0;32mimport\u001b[0m \u001b[0mclassification_report\u001b[0m\u001b[0;34m\u001b[0m\u001b[0;34m\u001b[0m\u001b[0m\n\u001b[1;32m      5\u001b[0m \u001b[0;34m\u001b[0m\u001b[0m\n",
            "\u001b[0;31mModuleNotFoundError\u001b[0m: No module named 'cuml'",
            "",
            "\u001b[0;31m---------------------------------------------------------------------------\u001b[0;32m\nNOTE: If your import is failing due to a missing package, you can\nmanually install dependencies using either !pip or !apt.\n\nTo view examples of installing some common dependencies, click the\n\"Open Examples\" button below.\n\u001b[0;31m---------------------------------------------------------------------------\u001b[0m\n"
          ],
          "errorDetails": {
            "actions": [
              {
                "action": "open_url",
                "actionText": "Open Examples",
                "url": "/notebooks/snippets/importing_libraries.ipynb"
              }
            ]
          }
        }
      ]
    },
    {
      "cell_type": "code",
      "source": [],
      "metadata": {
        "id": "OVcRlBlwPiKZ"
      },
      "execution_count": null,
      "outputs": []
    }
  ]
}